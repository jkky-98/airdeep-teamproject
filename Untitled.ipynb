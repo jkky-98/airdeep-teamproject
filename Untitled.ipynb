{
 "cells": [
  {
   "cell_type": "code",
   "execution_count": null,
   "id": "c8a73a26",
   "metadata": {
    "ExecuteTime": {
     "start_time": "2023-04-01T09:04:29.253Z"
    }
   },
   "outputs": [],
   "source": [
    "import pandas as pd\n",
    "\n",
    "class read_csv:\n",
    "    def __init__(self, path):\n",
    "        self.path = path\n",
    "    def transform(self):\n",
    "        df_co2 = pd.read_excel(path, sheet_name = 'S1.data.#5004', header=1, index_col=0) # CO2\n",
    "        df_pm25 = pd.read_excel(path, sheet_name = 'S1.data.#5009', header=1, index_col=0) # pm2.5 초미세먼지\n",
    "        df_pm10 = pd.read_excel(path, sheet_name = 'S1.data.#500A', header=1, index_col=0) # pm10 미세먼지\n",
    "        df_tem = pd.read_excel(path, sheet_name = 'S1.data.#500C', header=1, index_col=0) # humid\n",
    "        df_hum = pd.read_excel(path, sheet_name = 'S1.data.#500E', header=1, index_col=0) # temperature\n",
    "        df_voc = pd.read_excel(path, sheet_name = 'S1.data.#500F', header=1, index_col=0) # VOC\n",
    "        \n",
    "        df = pd.merge(df_co2, df_pm25, df_pm10,\n",
    "                     df_tem, df_hum, df_voc, on='Unnamed: 1')\n",
    "        print(df)\n",
    "        df.rename(columns={'Unnamed: 1' : 'data'}, inplace=True)\n",
    "        df['datetime'] = pd.to_datetime(df.index)\n",
    "        df.reset_index(drop=True, inplace=True)\n",
    "        return df\n",
    "        \n",
    "        "
   ]
  },
  {
   "cell_type": "code",
   "execution_count": null,
   "id": "6a560334",
   "metadata": {
    "ExecuteTime": {
     "start_time": "2023-04-01T09:04:30.642Z"
    }
   },
   "outputs": [],
   "source": [
    "test = read_csv('/Users/jkky/Documents/air_deep/testdata/BB_care1.csv')\n",
    "test.transform()"
   ]
  }
 ],
 "metadata": {
  "kernelspec": {
   "display_name": "tf25",
   "language": "python",
   "name": "tf25"
  },
  "language_info": {
   "codemirror_mode": {
    "name": "ipython",
    "version": 3
   },
   "file_extension": ".py",
   "mimetype": "text/x-python",
   "name": "python",
   "nbconvert_exporter": "python",
   "pygments_lexer": "ipython3",
   "version": "3.8.12"
  }
 },
 "nbformat": 4,
 "nbformat_minor": 5
}
