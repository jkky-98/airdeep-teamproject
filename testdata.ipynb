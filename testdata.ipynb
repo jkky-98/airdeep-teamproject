{
 "cells": [
  {
   "cell_type": "code",
   "execution_count": 34,
   "id": "3419b24f",
   "metadata": {
    "ExecuteTime": {
     "end_time": "2023-03-31T07:21:11.391723Z",
     "start_time": "2023-03-31T07:21:11.386523Z"
    }
   },
   "outputs": [],
   "source": [
    "import pandas as pd\n",
    "\n",
    "class read_csv:\n",
    "    def __init__(self, sheet_name, path):\n",
    "        self.sheet_name = sheet_name\n",
    "    def transform(self):\n",
    "        df = pd.read_excel(path, sheet_name = sheet_name, header=1, index_col=0)\n",
    "        df.rename(columns={'Unnamed: 1' : 'data'}, inplace=True)\n",
    "        df['datetime'] = pd.to_datetime(df.index)\n",
    "        df.reset_index(drop=True, inplace=True)\n",
    "        return df\n",
    "        "
   ]
  },
  {
   "cell_type": "code",
   "execution_count": null,
   "id": "7b674836",
   "metadata": {},
   "outputs": [],
   "source": []
  }
 ],
 "metadata": {
  "kernelspec": {
   "display_name": "tf25",
   "language": "python",
   "name": "tf25"
  },
  "language_info": {
   "codemirror_mode": {
    "name": "ipython",
    "version": 3
   },
   "file_extension": ".py",
   "mimetype": "text/x-python",
   "name": "python",
   "nbconvert_exporter": "python",
   "pygments_lexer": "ipython3",
   "version": "3.8.12"
  }
 },
 "nbformat": 4,
 "nbformat_minor": 5
}
